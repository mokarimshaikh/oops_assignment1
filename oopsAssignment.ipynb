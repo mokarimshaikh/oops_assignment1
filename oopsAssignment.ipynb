{
 "cells": [
  {
   "cell_type": "code",
   "execution_count": 1,
   "id": "ab7acfd9-0af6-4b37-9e19-ad107fb887f5",
   "metadata": {},
   "outputs": [],
   "source": [
    "# Q .1 )\n"
   ]
  },
  {
   "cell_type": "code",
   "execution_count": null,
   "id": "5f8ad956-d5ee-4fa1-91fd-2e64a8531db7",
   "metadata": {},
   "outputs": [],
   "source": [
    "''' Abstraction in python is a concept of simplyfing complrx system by hiding \n",
    "    unneccessery details  & exposing only the essensial feature of object or classes'''"
   ]
  },
  {
   "cell_type": "code",
   "execution_count": 2,
   "id": "8bdbb01b-3ad2-4000-9632-979768672f63",
   "metadata": {},
   "outputs": [],
   "source": [
    "# example of abstraction \n",
    "import abc\n",
    "class shape :\n",
    "    @abc.abstractmethod\n",
    "    def area(self) :\n",
    "        pass"
   ]
  },
  {
   "cell_type": "code",
   "execution_count": 10,
   "id": "9b01b297-29d8-402e-8dbd-2837a9c01bfc",
   "metadata": {},
   "outputs": [],
   "source": [
    "class circle(shape) :\n",
    "    \n",
    "    def __init__(self , radius) :\n",
    "        self.radius = radius\n",
    "        \n",
    "    def area(self) :\n",
    "        return \"Area of ciccle : \" , 3.17 * self.radius * self.radius\n",
    "        \n",
    "        "
   ]
  },
  {
   "cell_type": "code",
   "execution_count": 11,
   "id": "49d58ad6-d9c9-44dd-997f-be73766f9834",
   "metadata": {},
   "outputs": [],
   "source": [
    "area_circle = circle(5)"
   ]
  },
  {
   "cell_type": "code",
   "execution_count": 12,
   "id": "793aa0bc-be54-4e07-967f-0ee72036698b",
   "metadata": {},
   "outputs": [
    {
     "data": {
      "text/plain": [
       "('Area of ciccle : ', 79.25)"
      ]
     },
     "execution_count": 30,
     "metadata": {},
     "output_type": "execute_result"
    }
   ],
   "source": [
    "area_circle.area()"
   ]
  },
  {
   "cell_type": "code",
   "execution_count": 32,
   "id": "4a7fba64-2699-4952-a530-18306d2c85ca",
   "metadata": {},
   "outputs": [],
   "source": [
    "class rectangular(shape) :\n",
    "    def __init__(self , width , hight) :\n",
    "        self.width = width\n",
    "        self.hight = hight\n",
    "        \n",
    "    def area(self) :\n",
    "        return \"Area of rectangular : \" , self.width * self.hight\n",
    "    "
   ]
  },
  {
   "cell_type": "code",
   "execution_count": 33,
   "id": "8c5e8ba2-c0d6-4f59-87be-d496eb4bca4d",
   "metadata": {},
   "outputs": [],
   "source": [
    "area_rectangular = rectangular(4 , 6)"
   ]
  },
  {
   "cell_type": "code",
   "execution_count": 34,
   "id": "ffe29de3-1caf-4bcb-990d-5db8549d541b",
   "metadata": {},
   "outputs": [
    {
     "data": {
      "text/plain": [
       "('Area of rectangular : ', 24)"
      ]
     },
     "execution_count": 34,
     "metadata": {},
     "output_type": "execute_result"
    }
   ],
   "source": [
    "area_rectangular.area()"
   ]
  },
  {
   "cell_type": "code",
   "execution_count": 35,
   "id": "4f3d973a-5c0c-4f2a-b3b9-48e4e6986d36",
   "metadata": {},
   "outputs": [],
   "source": [
    " # Q .2 )\n",
    "    "
   ]
  },
  {
   "cell_type": "code",
   "execution_count": null,
   "id": "161b66cc-5b45-404f-8910-de44571643df",
   "metadata": {},
   "outputs": [],
   "source": [
    "#Abstraction\n",
    "\n",
    "''' Abstraction in python is a concept of simplyfing complrx system by hiding \n",
    "    unneccessery details  & exposing only the essensial feature of object or classes'''"
   ]
  },
  {
   "cell_type": "code",
   "execution_count": 36,
   "id": "0e90d48c-f3e3-420e-b5e1-3f3a7b17d55a",
   "metadata": {},
   "outputs": [],
   "source": [
    "# Example of abstraction\n",
    "\n",
    "import abc\n",
    "class shape :\n",
    "    @abc.abstractmethod\n",
    "    def area(self) :\n",
    "        pass"
   ]
  },
  {
   "cell_type": "code",
   "execution_count": 37,
   "id": "957dd5cd-8927-497d-b74d-4838a90f6cd8",
   "metadata": {},
   "outputs": [],
   "source": [
    "class square(shape) :\n",
    "    \n",
    "    def __init__(self , side) :\n",
    "        self.side = side\n",
    "        \n",
    "    def area(self) :\n",
    "        return \"Area of square: \" ,  self.side * self.side    "
   ]
  },
  {
   "cell_type": "code",
   "execution_count": 38,
   "id": "3fd03657-742d-45dc-a5de-91152a6a0d33",
   "metadata": {},
   "outputs": [],
   "source": [
    "area_square = square(20)"
   ]
  },
  {
   "cell_type": "code",
   "execution_count": 39,
   "id": "18a09bb2-5724-4021-b075-b25bfcf5af66",
   "metadata": {},
   "outputs": [
    {
     "data": {
      "text/plain": [
       "('Area of square: ', 400)"
      ]
     },
     "execution_count": 39,
     "metadata": {},
     "output_type": "execute_result"
    }
   ],
   "source": [
    "area_square.area()"
   ]
  },
  {
   "cell_type": "code",
   "execution_count": null,
   "id": "4bd0d32c-2a43-4f6c-8204-be5d92dcebf4",
   "metadata": {},
   "outputs": [],
   "source": [
    "# Encapsulation\n",
    "'''Encapsulation is a fundamental concept in object-oriented programming that refers to\n",
    "the bundling of data (attributes) and methods (functions) that operate on that data into \n",
    "a single unit, called a class. It restricts direct access to some of an object's components,\n",
    "providing control over the interactions with the object and hiding its internal details.'''"
   ]
  },
  {
   "cell_type": "code",
   "execution_count": 41,
   "id": "e4a461b5-9705-4185-8d11-89a77e22d093",
   "metadata": {},
   "outputs": [],
   "source": [
    "# example of encapsulation\n",
    "\n",
    "class person :\n",
    "    \n",
    "    def __init__(self , name , age) :\n",
    "        self.__name = name\n",
    "        self.__age = age\n",
    "        \n",
    "    def get_name(self) :\n",
    "        return self.__name\n",
    "    \n",
    "    def set_name(self , new_name) :\n",
    "        if len(new_name) > 0 :\n",
    "            self.__name = new_name\n",
    "        else :\n",
    "            print(\"Name cannot be empty\")\n",
    "            \n",
    "    def get_age(self) :\n",
    "        return self.__age\n",
    "    \n",
    "    def increment_age(self) :\n",
    "        self.__age = self.__age + 1\n",
    "        \n",
    "    \n",
    "    "
   ]
  },
  {
   "cell_type": "code",
   "execution_count": 43,
   "id": "1c460d4f-2de3-458b-b991-a7d1ea4834ee",
   "metadata": {},
   "outputs": [],
   "source": [
    "person1 = person(\"Abdul_mokarim\" , 22)"
   ]
  },
  {
   "cell_type": "code",
   "execution_count": 44,
   "id": "b87446c7-1d0b-46b0-8f98-af2f70a49adb",
   "metadata": {},
   "outputs": [
    {
     "data": {
      "text/plain": [
       "22"
      ]
     },
     "execution_count": 44,
     "metadata": {},
     "output_type": "execute_result"
    }
   ],
   "source": [
    "person1.get_age()"
   ]
  },
  {
   "cell_type": "code",
   "execution_count": 45,
   "id": "c5c62f50-f8ba-49b5-9278-e596630dede2",
   "metadata": {},
   "outputs": [
    {
     "data": {
      "text/plain": [
       "'Abdul_mokarim'"
      ]
     },
     "execution_count": 45,
     "metadata": {},
     "output_type": "execute_result"
    }
   ],
   "source": [
    "person1.get_name()"
   ]
  },
  {
   "cell_type": "code",
   "execution_count": 46,
   "id": "777181f0-1851-4a88-8d5d-e303105bae16",
   "metadata": {},
   "outputs": [],
   "source": [
    "person1.increment_age()"
   ]
  },
  {
   "cell_type": "code",
   "execution_count": 47,
   "id": "e3c93c5f-bba5-45e6-8c9c-9df0f16ecd9e",
   "metadata": {},
   "outputs": [
    {
     "data": {
      "text/plain": [
       "23"
      ]
     },
     "execution_count": 47,
     "metadata": {},
     "output_type": "execute_result"
    }
   ],
   "source": [
    "person1.get_age()"
   ]
  },
  {
   "cell_type": "code",
   "execution_count": 48,
   "id": "38b88189-ad3b-46d9-b47e-f6258d0582f7",
   "metadata": {},
   "outputs": [],
   "source": [
    "person1.set_name(\"shaikh_mokarim\")"
   ]
  },
  {
   "cell_type": "code",
   "execution_count": 49,
   "id": "53661399-39a1-4ffc-a498-1ec7fb4143d1",
   "metadata": {},
   "outputs": [
    {
     "data": {
      "text/plain": [
       "'shaikh_mokarim'"
      ]
     },
     "execution_count": 49,
     "metadata": {},
     "output_type": "execute_result"
    }
   ],
   "source": [
    "person1.get_name()"
   ]
  },
  {
   "cell_type": "code",
   "execution_count": 50,
   "id": "9c6b75e0-bc80-4f6a-84a0-13d828ff3e23",
   "metadata": {},
   "outputs": [],
   "source": [
    "# Q.3 \n",
    "\n"
   ]
  },
  {
   "cell_type": "code",
   "execution_count": null,
   "id": "19243d43-5097-41a9-9d80-4eb9d2fb6371",
   "metadata": {},
   "outputs": [],
   "source": [
    "'''The abc module in Python stands for \"Abstract Base Classes.\" It provides a way to define abstract base\n",
    "classes in Python, which are classes that cannot be instantiated directly but serve as a blueprint for other\n",
    "classes. Abstract base classes help enforce a certain interface or set of methods that derived classes must\n",
    "implement. They are useful for creating a common interface that multiple related classes should adhere to,\n",
    "ensuring consistency and predictability in your code.\n",
    "\n",
    "Here's why the abc module is used:\n",
    "\n",
    "Enforcing Method Implementation: You can use abstract base classes to specify a set of methods that derived classes\n",
    "must implement. If a derived class doesn't implement these methods, it will raise a TypeError when you try to \n",
    "create an instance of the derived class.\n",
    "\n",
    "Providing a Common Interface: Abstract base classes help in defining a common interface for a group of related \n",
    "classes. This makes it easier to work with objects of different classes that share similar behavior.\n",
    "\n",
    "Documentation and Code Clarity: Using abstract base classes makes your code more explicit and self-documenting. \n",
    "It communicates the expected structure and behavior of classes to other developers.'''"
   ]
  },
  {
   "cell_type": "code",
   "execution_count": 51,
   "id": "0211f037-179a-4988-89f7-47bdf919f875",
   "metadata": {},
   "outputs": [],
   "source": [
    "# .4 \n"
   ]
  },
  {
   "cell_type": "code",
   "execution_count": null,
   "id": "45bfe53d-cd4d-4265-8ced-31c01cb1a5f1",
   "metadata": {},
   "outputs": [],
   "source": [
    "'''Data abstraction in programming refers to the concept of hiding the complex implementation details \n",
    "of data structures while exposing a simplified interface for interacting with that data. It allows you to\n",
    "focus on what an object does rather than how it does it. In Python, you can achieve data abstraction through \n",
    "various mechanisms:\n",
    "\n",
    "Classes and Objects: Python's object-oriented programming (OOP) features, such as classes and objects,\n",
    "provide a natural way to achieve data abstraction. You can encapsulate data (attributes) and behavior \n",
    "(methods) within a class and expose only the necessary methods and attributes to interact with the object.\n",
    "This hides the internal implementation details from users of the class.'''"
   ]
  },
  {
   "cell_type": "code",
   "execution_count": 52,
   "id": "b7a7b8cd-d767-4087-a02f-b3f86a945cc0",
   "metadata": {},
   "outputs": [],
   "source": [
    " #example of data abstraction\n",
    "    \n",
    "class BankAccount:\n",
    "    def __init__(self, account_number, balance):\n",
    "        self.account_number = account_number\n",
    "        self.balance = balance\n",
    "\n",
    "    def deposit(self, amount):\n",
    "        if amount > 0:\n",
    "            self.balance += amount\n",
    "\n",
    "    def withdraw(self, amount):\n",
    "        if amount > 0 and amount <= self.balance:\n",
    "            self.balance -= amount\n",
    "\n",
    "    def get_balance(self):\n",
    "        return self.balance\n",
    "\n",
    "    "
   ]
  },
  {
   "cell_type": "code",
   "execution_count": 54,
   "id": "a6ed3927-88f5-4e6a-91d8-7e6d4fe47f5f",
   "metadata": {},
   "outputs": [],
   "source": [
    "mokarim = BankAccount(775540506712 , 1000)"
   ]
  },
  {
   "cell_type": "code",
   "execution_count": 55,
   "id": "bfca90a7-8e0d-45e6-9e9b-8a550ad41e82",
   "metadata": {},
   "outputs": [],
   "source": [
    "mokarim.deposit(2000)"
   ]
  },
  {
   "cell_type": "code",
   "execution_count": 56,
   "id": "30b8fc06-05a5-47ee-8573-89cbe518c2f9",
   "metadata": {},
   "outputs": [
    {
     "data": {
      "text/plain": [
       "3000"
      ]
     },
     "execution_count": 56,
     "metadata": {},
     "output_type": "execute_result"
    }
   ],
   "source": [
    "mokarim.get_balance()"
   ]
  },
  {
   "cell_type": "code",
   "execution_count": 57,
   "id": "b2e47ef3-1a55-4fef-8cae-e4b4dafd723f",
   "metadata": {},
   "outputs": [],
   "source": [
    "mokarim.withdraw(2000)"
   ]
  },
  {
   "cell_type": "code",
   "execution_count": 58,
   "id": "f7ab46a3-54be-4f6b-bd91-ef12735b811e",
   "metadata": {},
   "outputs": [
    {
     "data": {
      "text/plain": [
       "1000"
      ]
     },
     "execution_count": 58,
     "metadata": {},
     "output_type": "execute_result"
    }
   ],
   "source": [
    "mokarim.get_balance()"
   ]
  },
  {
   "cell_type": "code",
   "execution_count": 59,
   "id": "80127377-403a-4b2c-9774-93e6bd6bd4dc",
   "metadata": {},
   "outputs": [],
   "source": [
    "# Q . 5\n",
    "\n"
   ]
  },
  {
   "cell_type": "code",
   "execution_count": null,
   "id": "80c77aa0-0ac5-43bb-89fb-55ce2a821018",
   "metadata": {},
   "outputs": [],
   "source": [
    "'''No, you cannot create an instance of an abstract class in most programming languages that support abstract classes. \n",
    "An abstract class is a class that is meant to be used as a base class for other classes and is typically used to define a\n",
    "common interface or set of methods that derived classes must implement.'''\n",
    "\n"
   ]
  },
  {
   "cell_type": "code",
   "execution_count": null,
   "id": "7f420652-6d17-48c3-8980-d9ea702b7639",
   "metadata": {},
   "outputs": [],
   "source": []
  }
 ],
 "metadata": {
  "kernelspec": {
   "display_name": "Python 3 (ipykernel)",
   "language": "python",
   "name": "python3"
  },
  "language_info": {
   "codemirror_mode": {
    "name": "ipython",
    "version": 3
   },
   "file_extension": ".py",
   "mimetype": "text/x-python",
   "name": "python",
   "nbconvert_exporter": "python",
   "pygments_lexer": "ipython3",
   "version": "3.10.8"
  }
 },
 "nbformat": 4,
 "nbformat_minor": 5
}
